{
 "cells": [
  {
   "cell_type": "code",
   "execution_count": 1,
   "metadata": {},
   "outputs": [
    {
     "name": "stdout",
     "output_type": "stream",
     "text": [
      "{'fname': 'code', 'lname': 'training', 'username': 'codetraining01', 'pwd': '12345', 'dob': '01-01-2019'}\n"
     ]
    }
   ],
   "source": [
    "#Looping through dictionary\n",
    "user1={'fname':'code','lname':'training','username':'codetraining01','pwd':'12345','dob':'01-01-2019'}\n",
    "print(user1)"
   ]
  },
  {
   "cell_type": "code",
   "execution_count": 3,
   "metadata": {},
   "outputs": [
    {
     "name": "stdout",
     "output_type": "stream",
     "text": [
      "Key is :fname\n",
      "value is :code\n",
      "Key is :lname\n",
      "value is :training\n",
      "Key is :username\n",
      "value is :codetraining01\n",
      "Key is :pwd\n",
      "value is :12345\n",
      "Key is :dob\n",
      "value is :01-01-2019\n"
     ]
    }
   ],
   "source": [
    "for key,value in user1.items():\n",
    "    print(f\"Key is :{key}\")\n",
    "    print(f\"value is :{value}\")"
   ]
  },
  {
   "cell_type": "code",
   "execution_count": 4,
   "metadata": {},
   "outputs": [
    {
     "name": "stdout",
     "output_type": "stream",
     "text": [
      "Key is :fname\n",
      "value is :code\n",
      "Key is :lname\n",
      "value is :training\n",
      "Key is :username\n",
      "value is :codetraining01\n",
      "Key is :pwd\n",
      "value is :12345\n",
      "Key is :dob\n",
      "value is :01-01-2019\n"
     ]
    }
   ],
   "source": [
    "for x,y in user1.items():\n",
    "    print(f\"Key is :{x}\")\n",
    "    print(f\"value is :{y}\")"
   ]
  },
  {
   "cell_type": "code",
   "execution_count": 5,
   "metadata": {},
   "outputs": [
    {
     "name": "stdout",
     "output_type": "stream",
     "text": [
      "('fname', 'code')\n",
      "('lname', 'training')\n",
      "('username', 'codetraining01')\n",
      "('pwd', '12345')\n",
      "('dob', '01-01-2019')\n"
     ]
    }
   ],
   "source": [
    "#req i to get only keys in the output\n",
    "for x in user1.items():\n",
    "    print(x)"
   ]
  },
  {
   "cell_type": "code",
   "execution_count": 6,
   "metadata": {},
   "outputs": [
    {
     "name": "stdout",
     "output_type": "stream",
     "text": [
      "code\n",
      "training\n",
      "codetraining01\n",
      "12345\n",
      "01-01-2019\n"
     ]
    }
   ],
   "source": [
    "#req i to get only values in the output\n",
    "for x in user1.values():\n",
    "    print(x)"
   ]
  },
  {
   "cell_type": "code",
   "execution_count": 8,
   "metadata": {},
   "outputs": [
    {
     "name": "stdout",
     "output_type": "stream",
     "text": [
      "{'Satya': 'C', 'Dhyuti': 'Java', 'Pranathi': 'Cobol', 'Bindu': 'C++'}\n"
     ]
    },
    {
     "data": {
      "text/plain": [
       "dict"
      ]
     },
     "execution_count": 8,
     "metadata": {},
     "output_type": "execute_result"
    }
   ],
   "source": [
    "#I am conducting a survey for group of students for group of students to print their fav lang's\n",
    "fav_lang={'Satya':'C','Dhyuti':'Java','Pranathi':'Cobol','Bindu':'C++'}\n",
    "print(fav_lang)\n",
    "type(fav_lang)"
   ]
  },
  {
   "cell_type": "code",
   "execution_count": 10,
   "metadata": {},
   "outputs": [
    {
     "name": "stdout",
     "output_type": "stream",
     "text": [
      "Satya's' fav lang is C.\n",
      "\n",
      "Dhyuti's' fav lang is Java.\n",
      "\n",
      "Pranathi's' fav lang is Cobol.\n",
      "\n",
      "Bindu's' fav lang is C++.\n",
      "\n"
     ]
    }
   ],
   "source": [
    "#I have to display result for each and every studen\n",
    "for name,lang in fav_lang.items():\n",
    "    print(f\"{name.title()}'s' fav lang is {lang.title()}.\\n\")"
   ]
  },
  {
   "cell_type": "code",
   "execution_count": null,
   "metadata": {},
   "outputs": [],
   "source": []
  },
  {
   "cell_type": "code",
   "execution_count": null,
   "metadata": {},
   "outputs": [],
   "source": []
  },
  {
   "cell_type": "code",
   "execution_count": null,
   "metadata": {},
   "outputs": [],
   "source": []
  },
  {
   "cell_type": "code",
   "execution_count": null,
   "metadata": {},
   "outputs": [],
   "source": []
  },
  {
   "cell_type": "code",
   "execution_count": null,
   "metadata": {},
   "outputs": [],
   "source": []
  }
 ],
 "metadata": {
  "kernelspec": {
   "display_name": "Python 3",
   "language": "python",
   "name": "python3"
  },
  "language_info": {
   "codemirror_mode": {
    "name": "ipython",
    "version": 3
   },
   "file_extension": ".py",
   "mimetype": "text/x-python",
   "name": "python",
   "nbconvert_exporter": "python",
   "pygments_lexer": "ipython3",
   "version": "3.7.6"
  }
 },
 "nbformat": 4,
 "nbformat_minor": 4
}

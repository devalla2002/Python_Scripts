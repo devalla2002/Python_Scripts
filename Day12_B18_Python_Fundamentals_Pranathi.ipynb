{
 "cells": [
  {
   "cell_type": "code",
   "execution_count": 7,
   "metadata": {},
   "outputs": [],
   "source": [
    "#Understanding the return values of a function,req is to conider the firstname,lastname to get the fullname\n",
    "def formatted_full_name(first_name,last_name):\n",
    "    \"\"\"Display the formatted full name\"\"\"\n",
    "    fullname = f\"{first_name} {last_name}\"\n",
    "    return fullname.title()"
   ]
  },
  {
   "cell_type": "code",
   "execution_count": 8,
   "metadata": {},
   "outputs": [
    {
     "data": {
      "text/plain": [
       "'Satya Bolla'"
      ]
     },
     "execution_count": 8,
     "metadata": {},
     "output_type": "execute_result"
    }
   ],
   "source": [
    "formatted_full_name('satya','bolla')"
   ]
  },
  {
   "cell_type": "code",
   "execution_count": 9,
   "metadata": {},
   "outputs": [
    {
     "name": "stdout",
     "output_type": "stream",
     "text": [
      "Satya Bolla\n"
     ]
    }
   ],
   "source": [
    "Student=formatted_full_name('Satya','Bolla')\n",
    "print(Student)"
   ]
  },
  {
   "cell_type": "code",
   "execution_count": 13,
   "metadata": {},
   "outputs": [],
   "source": [
    "#Returning a dictionary data type\n",
    "def build_person(first_name,last_name):\n",
    "    \"\"\" Return a disctionary datatype\"\"\"\n",
    "    person={'first':first_name,'last':last_name}\n",
    "    return person"
   ]
  },
  {
   "cell_type": "code",
   "execution_count": 14,
   "metadata": {},
   "outputs": [
    {
     "data": {
      "text/plain": [
       "{'first': 'Satya', 'last': 'Bolla'}"
      ]
     },
     "execution_count": 14,
     "metadata": {},
     "output_type": "execute_result"
    }
   ],
   "source": [
    "build_person('Satya','Bolla')"
   ]
  },
  {
   "cell_type": "code",
   "execution_count": 15,
   "metadata": {},
   "outputs": [],
   "source": [
    "students=['satya','dhyuti','devi','amit','pranathi','bindu']"
   ]
  },
  {
   "cell_type": "code",
   "execution_count": 19,
   "metadata": {},
   "outputs": [],
   "source": [
    "def greet_user(names):\n",
    "    \"\"\" Print a simple greeting\"\"\"\n",
    "    for name in names:\n",
    "        msg=f\"Hello,Wish you a very Happy New Year {name.title()}\"\n",
    "        print(msg)"
   ]
  },
  {
   "cell_type": "code",
   "execution_count": 20,
   "metadata": {},
   "outputs": [
    {
     "name": "stdout",
     "output_type": "stream",
     "text": [
      "Hello,Wish you a very Happy New YearSatya\n",
      "Hello,Wish you a very Happy New YearDhyuti\n",
      "Hello,Wish you a very Happy New YearDevi\n",
      "Hello,Wish you a very Happy New YearAmit\n",
      "Hello,Wish you a very Happy New YearPranathi\n",
      "Hello,Wish you a very Happy New YearBindu\n"
     ]
    }
   ],
   "source": [
    "greet_user(students)"
   ]
  },
  {
   "cell_type": "code",
   "execution_count": 29,
   "metadata": {},
   "outputs": [],
   "source": [
    "#Understanding arbitary arguments\n",
    "def make_pizza(*toppings):\n",
    "    \"\"\"Print the list of pizzas ordered\"\"\"\n",
    "    print(toppings)\n",
    "    "
   ]
  },
  {
   "cell_type": "code",
   "execution_count": 27,
   "metadata": {},
   "outputs": [
    {
     "name": "stdout",
     "output_type": "stream",
     "text": [
      "onion\n"
     ]
    }
   ],
   "source": [
    "make_pizza('onion')"
   ]
  },
  {
   "cell_type": "code",
   "execution_count": 30,
   "metadata": {},
   "outputs": [
    {
     "name": "stdout",
     "output_type": "stream",
     "text": [
      "('onion', 'cheese', 'pepporoni')\n"
     ]
    }
   ],
   "source": [
    "make_pizza('onion','cheese','pepporoni')"
   ]
  },
  {
   "cell_type": "code",
   "execution_count": null,
   "metadata": {},
   "outputs": [],
   "source": []
  }
 ],
 "metadata": {
  "kernelspec": {
   "display_name": "Python 3",
   "language": "python",
   "name": "python3"
  },
  "language_info": {
   "codemirror_mode": {
    "name": "ipython",
    "version": 3
   },
   "file_extension": ".py",
   "mimetype": "text/x-python",
   "name": "python",
   "nbconvert_exporter": "python",
   "pygments_lexer": "ipython3",
   "version": "3.7.6"
  }
 },
 "nbformat": 4,
 "nbformat_minor": 4
}

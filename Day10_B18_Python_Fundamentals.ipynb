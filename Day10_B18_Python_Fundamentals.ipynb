{
 "cells": [
  {
   "cell_type": "code",
   "execution_count": 1,
   "metadata": {},
   "outputs": [
    {
     "name": "stdout",
     "output_type": "stream",
     "text": [
      "1\n",
      "2\n",
      "3\n",
      "4\n"
     ]
    }
   ],
   "source": [
    "#Introduction to while loops\n",
    "current_number=1\n",
    "while current_number<5:\n",
    "    print(current_number)\n",
    "    current_number+=1\n",
    "    \n"
   ]
  },
  {
   "cell_type": "code",
   "execution_count": 2,
   "metadata": {},
   "outputs": [
    {
     "name": "stdout",
     "output_type": "stream",
     "text": [
      "\n",
      "Tell me something,i will repeat it for you\n",
      " Enter 'quit' to end the programRama\n",
      "Rama\n",
      "\n",
      "Tell me something,i will repeat it for you\n",
      " Enter 'quit' to end the programSita\n",
      "Sita\n",
      "\n",
      "Tell me something,i will repeat it for you\n",
      " Enter 'quit' to end the programquit\n",
      "quit\n"
     ]
    }
   ],
   "source": [
    "current_number=1\n",
    "prompt=\"\\nTell me something,i will repeat it for you\"\n",
    "prompt+=\"\\n Enter 'quit' to end the program\"\n",
    "message=\" \"\n",
    "while message!='quit':\n",
    "    message=input(prompt)\n",
    "    print(message)"
   ]
  },
  {
   "cell_type": "code",
   "execution_count": 6,
   "metadata": {},
   "outputs": [
    {
     "name": "stdout",
     "output_type": "stream",
     "text": [
      "\n",
      " Please enter the name of the city you visitedLondon\n",
      "I would love to go to London!\n",
      "\n",
      " Please enter the name of the city you visitedquit\n"
     ]
    }
   ],
   "source": [
    "#Using break to exit the loop\n",
    "prompt=\"\\n Please enter the name of the city you visited\"\n",
    "while True:\n",
    "    city=input(prompt)\n",
    "    if city=='quit':\n",
    "        break\n",
    "    else :\n",
    "            print(f\"I would love to go to {city.title()}!\")"
   ]
  },
  {
   "cell_type": "code",
   "execution_count": 13,
   "metadata": {},
   "outputs": [],
   "source": [
    "#Introduction to functions in python\n",
    "#How to define a function\n",
    "#req is to define afunction to display the greeting\n",
    "def greet_user(username):\n",
    "    \"\"\" Display a simple greeting message\"\"\"\n",
    "    print(f\"Hello! Good to see you {username.title()}\")\n",
    "    "
   ]
  },
  {
   "cell_type": "code",
   "execution_count": 14,
   "metadata": {},
   "outputs": [
    {
     "name": "stdout",
     "output_type": "stream",
     "text": [
      "Hello! Good to see you Satya\n"
     ]
    }
   ],
   "source": [
    "greet_user('Satya')"
   ]
  },
  {
   "cell_type": "code",
   "execution_count": null,
   "metadata": {},
   "outputs": [],
   "source": []
  }
 ],
 "metadata": {
  "kernelspec": {
   "display_name": "Python 3",
   "language": "python",
   "name": "python3"
  },
  "language_info": {
   "codemirror_mode": {
    "name": "ipython",
    "version": 3
   },
   "file_extension": ".py",
   "mimetype": "text/x-python",
   "name": "python",
   "nbconvert_exporter": "python",
   "pygments_lexer": "ipython3",
   "version": "3.7.6"
  }
 },
 "nbformat": 4,
 "nbformat_minor": 4
}

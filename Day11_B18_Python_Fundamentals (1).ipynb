{
 "cells": [
  {
   "cell_type": "code",
   "execution_count": 8,
   "metadata": {},
   "outputs": [],
   "source": [
    "#Introduction to functions in python and understanding the code reusability.Code is written once,read  millions of times\n",
    "#Function name should be in lowercase\n",
    " #passing parameter to function\n",
    "def greet_user(username):\n",
    "    \"\"\"Display a simple greeting message\"\"\"\n",
    "    print(f\"welcome back,good to have to back {username.title()}\")"
   ]
  },
  {
   "cell_type": "code",
   "execution_count": 9,
   "metadata": {},
   "outputs": [
    {
     "name": "stdout",
     "output_type": "stream",
     "text": [
      "welcome back,good to have to back Satya\n"
     ]
    }
   ],
   "source": [
    "greet_user('Satya') # passing arguments to function"
   ]
  },
  {
   "cell_type": "code",
   "execution_count": 12,
   "metadata": {},
   "outputs": [],
   "source": [
    "#Req is to define 2 parameters petname,animal_type\n",
    "def describe_pet(petname,animal_type):\n",
    "    \"\"\"Display information about the pet\"\"\"\n",
    "    print(f\"\\nI have a {animal_type} \")\n",
    "    print(f\"\\n My {animal_type}'s' name is {petname.title()}\")"
   ]
  },
  {
   "cell_type": "code",
   "execution_count": 13,
   "metadata": {},
   "outputs": [
    {
     "name": "stdout",
     "output_type": "stream",
     "text": [
      "\n",
      "I have a dog \n",
      "\n",
      " My dog's' name is Rex\n"
     ]
    }
   ],
   "source": [
    "describe_pet('Rex','dog')"
   ]
  },
  {
   "cell_type": "code",
   "execution_count": 14,
   "metadata": {},
   "outputs": [
    {
     "name": "stdout",
     "output_type": "stream",
     "text": [
      "\n",
      "I have a Pig \n",
      "\n",
      " My Pig's' name is Bruno\n"
     ]
    }
   ],
   "source": [
    "describe_pet('Bruno','Pig')"
   ]
  },
  {
   "cell_type": "code",
   "execution_count": 15,
   "metadata": {},
   "outputs": [
    {
     "name": "stdout",
     "output_type": "stream",
     "text": [
      "\n",
      "I have a Rex \n",
      "\n",
      " My Rex's' name is Dog\n"
     ]
    }
   ],
   "source": [
    "#understanding the types of arguments\n",
    "describe_pet('Dog','Rex')"
   ]
  },
  {
   "cell_type": "code",
   "execution_count": 33,
   "metadata": {},
   "outputs": [],
   "source": [
    "#understanding the keyword arguments\n",
    "def describe_pet(petname:'Rex',animal_type='Dog'):\n",
    "    describe_pet('X')"
   ]
  },
  {
   "cell_type": "code",
   "execution_count": 31,
   "metadata": {},
   "outputs": [],
   "source": [
    "#Understanding the dafault arguments, we have to keep the dafault argument at the end of the function\n",
    "def describe_pet(petname,animal_type='dog'):\n",
    "    \"\"\" Display the pet information\"\"\"\n",
    "    print(f\"\\n I have a {animal_type}\")\n",
    "    print(f\"\\n My {animal_type} name is {petname.title()}\\n\")\n"
   ]
  },
  {
   "cell_type": "code",
   "execution_count": 32,
   "metadata": {},
   "outputs": [
    {
     "name": "stdout",
     "output_type": "stream",
     "text": [
      "\n",
      " I have a cat\n",
      "\n",
      " My cat name is Rex\n",
      "\n"
     ]
    }
   ],
   "source": [
    "describe_pet('rex','cat')"
   ]
  },
  {
   "cell_type": "code",
   "execution_count": null,
   "metadata": {},
   "outputs": [],
   "source": []
  },
  {
   "cell_type": "code",
   "execution_count": null,
   "metadata": {},
   "outputs": [],
   "source": []
  },
  {
   "cell_type": "code",
   "execution_count": null,
   "metadata": {},
   "outputs": [],
   "source": []
  },
  {
   "cell_type": "code",
   "execution_count": null,
   "metadata": {},
   "outputs": [],
   "source": []
  }
 ],
 "metadata": {
  "kernelspec": {
   "display_name": "Python 3",
   "language": "python",
   "name": "python3"
  },
  "language_info": {
   "codemirror_mode": {
    "name": "ipython",
    "version": 3
   },
   "file_extension": ".py",
   "mimetype": "text/x-python",
   "name": "python",
   "nbconvert_exporter": "python",
   "pygments_lexer": "ipython3",
   "version": "3.7.6"
  }
 },
 "nbformat": 4,
 "nbformat_minor": 4
}

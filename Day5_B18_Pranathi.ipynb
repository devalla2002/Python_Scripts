{
 "cells": [
  {
   "cell_type": "code",
   "execution_count": null,
   "metadata": {},
   "outputs": [],
   "source": [
    "#For Loops\n",
    "for tempcar in var:\n",
    "    print(tempvar)"
   ]
  },
  {
   "cell_type": "code",
   "execution_count": 3,
   "metadata": {},
   "outputs": [
    {
     "name": "stdout",
     "output_type": "stream",
     "text": [
      "Satya\n",
      "Pranathi\n",
      "Dhyuti\n",
      "Jyothi\n",
      "Salma\n",
      "Bindu\n"
     ]
    }
   ],
   "source": [
    "my_students=['Satya','Pranathi','Dhyuti','Jyothi','Salma','Bindu']\n",
    "for student in my_students:\n",
    "    print(student)"
   ]
  },
  {
   "cell_type": "code",
   "execution_count": 5,
   "metadata": {},
   "outputs": [
    {
     "name": "stdout",
     "output_type": "stream",
     "text": [
      "keep up the good work,Satya\n",
      "keep up the good work,Satya\n",
      "keep up the good work,Satya\n",
      "keep up the good work,Satya\n",
      "keep up the good work,Satya\n",
      "keep up the good work,Satya\n"
     ]
    }
   ],
   "source": [
    "for student in my_students:\n",
    "    print(f\"keep up the good work,{my_students[0].title()}\")"
   ]
  },
  {
   "cell_type": "code",
   "execution_count": 6,
   "metadata": {},
   "outputs": [
    {
     "name": "stdout",
     "output_type": "stream",
     "text": [
      "keep up the good work,Satya\n",
      "keep up the good work,Pranathi\n",
      "keep up the good work,Dhyuti\n",
      "keep up the good work,Jyothi\n",
      "keep up the good work,Salma\n",
      "keep up the good work,Bindu\n"
     ]
    }
   ],
   "source": [
    "for student in my_students:\n",
    "    print(f\"keep up the good work,{student.title()}\")"
   ]
  },
  {
   "cell_type": "code",
   "execution_count": 8,
   "metadata": {},
   "outputs": [
    {
     "name": "stdout",
     "output_type": "stream",
     "text": [
      "keep up the good work,Satya\n",
      "Looking fwd to receive practise file for tomorrow as well,Satya\n",
      "keep up the good work,Pranathi\n",
      "Looking fwd to receive practise file for tomorrow as well,Pranathi\n",
      "keep up the good work,Dhyuti\n",
      "Looking fwd to receive practise file for tomorrow as well,Dhyuti\n",
      "keep up the good work,Jyothi\n",
      "Looking fwd to receive practise file for tomorrow as well,Jyothi\n",
      "keep up the good work,Salma\n",
      "Looking fwd to receive practise file for tomorrow as well,Salma\n",
      "keep up the good work,Bindu\n",
      "Looking fwd to receive practise file for tomorrow as well,Bindu\n"
     ]
    }
   ],
   "source": [
    "for student in my_students:\n",
    "    print(f\"keep up the good work,{student.title()}\")\n",
    "    print(f\"Looking fwd to receive practise file for tomorrow as well,{student.title()}\")"
   ]
  },
  {
   "cell_type": "code",
   "execution_count": 10,
   "metadata": {},
   "outputs": [
    {
     "name": "stdout",
     "output_type": "stream",
     "text": [
      "keep up the good work,Satya\n",
      "Looking fwd to receive practise file for tomorrow as well,Satya.\n",
      "\n",
      "keep up the good work,Pranathi\n",
      "Looking fwd to receive practise file for tomorrow as well,Pranathi.\n",
      "\n",
      "keep up the good work,Dhyuti\n",
      "Looking fwd to receive practise file for tomorrow as well,Dhyuti.\n",
      "\n",
      "keep up the good work,Jyothi\n",
      "Looking fwd to receive practise file for tomorrow as well,Jyothi.\n",
      "\n",
      "keep up the good work,Salma\n",
      "Looking fwd to receive practise file for tomorrow as well,Salma.\n",
      "\n",
      "keep up the good work,Bindu\n",
      "Looking fwd to receive practise file for tomorrow as well,Bindu.\n",
      "\n"
     ]
    }
   ],
   "source": [
    "for student in my_students:\n",
    "    print(f\"keep up the good work,{student.title()}\")\n",
    "    print(f\"Looking fwd to receive practise file for tomorrow as well,{student.title()}.\\n\")"
   ]
  },
  {
   "cell_type": "code",
   "execution_count": 16,
   "metadata": {},
   "outputs": [
    {
     "name": "stdout",
     "output_type": "stream",
     "text": [
      "Maruti\n",
      "Benz\n",
      "BMW\n",
      "Audi\n",
      "Toyato\n"
     ]
    }
   ],
   "source": [
    "#Introduction to if loop\n",
    "cars=['maruti','benz','bmw','audi','toyato']\n",
    "for car in cars:\n",
    "    if car=='bmw':\n",
    "        print(car.upper())\n",
    "    else:\n",
    "        print(car.title())"
   ]
  },
  {
   "cell_type": "code",
   "execution_count": null,
   "metadata": {},
   "outputs": [],
   "source": []
  },
  {
   "cell_type": "code",
   "execution_count": null,
   "metadata": {},
   "outputs": [],
   "source": []
  },
  {
   "cell_type": "code",
   "execution_count": null,
   "metadata": {},
   "outputs": [],
   "source": []
  },
  {
   "cell_type": "code",
   "execution_count": null,
   "metadata": {},
   "outputs": [],
   "source": []
  },
  {
   "cell_type": "code",
   "execution_count": null,
   "metadata": {},
   "outputs": [],
   "source": []
  },
  {
   "cell_type": "code",
   "execution_count": null,
   "metadata": {},
   "outputs": [],
   "source": []
  },
  {
   "cell_type": "code",
   "execution_count": null,
   "metadata": {},
   "outputs": [],
   "source": []
  }
 ],
 "metadata": {
  "kernelspec": {
   "display_name": "Python 3",
   "language": "python",
   "name": "python3"
  },
  "language_info": {
   "codemirror_mode": {
    "name": "ipython",
    "version": 3
   },
   "file_extension": ".py",
   "mimetype": "text/x-python",
   "name": "python",
   "nbconvert_exporter": "python",
   "pygments_lexer": "ipython3",
   "version": "3.7.6"
  }
 },
 "nbformat": 4,
 "nbformat_minor": 4
}

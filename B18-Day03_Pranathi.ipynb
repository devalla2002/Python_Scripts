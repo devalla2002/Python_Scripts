{
 "cells": [
  {
   "cell_type": "code",
   "execution_count": 2,
   "metadata": {},
   "outputs": [
    {
     "name": "stdout",
     "output_type": "stream",
     "text": [
      "['satya', 'pranathi', 'Dhyuti', 'Bindu', 'jyoti']\n"
     ]
    }
   ],
   "source": [
    "#defining a list of strings\n",
    "students=['satya','pranathi','Dhyuti','Bindu','jyoti']\n",
    "print(students)\n"
   ]
  },
  {
   "cell_type": "code",
   "execution_count": 3,
   "metadata": {},
   "outputs": [
    {
     "name": "stdout",
     "output_type": "stream",
     "text": [
      "Dhyuti\n"
     ]
    }
   ],
   "source": [
    "#to retrieve from the list\n",
    "print(students[2])"
   ]
  },
  {
   "cell_type": "code",
   "execution_count": 4,
   "metadata": {},
   "outputs": [
    {
     "name": "stdout",
     "output_type": "stream",
     "text": [
      "['satya', 'pranathi', 'Dhyuti', 'Bindu', 'jyoti', 'Durga']\n"
     ]
    }
   ],
   "source": [
    "#adding elements to the list\n",
    "students.append('Durga')\n",
    "print(students)"
   ]
  },
  {
   "cell_type": "code",
   "execution_count": 5,
   "metadata": {},
   "outputs": [
    {
     "name": "stdout",
     "output_type": "stream",
     "text": [
      "['satya', 'pranathi', 'Shanmuki', 'Dhyuti', 'Bindu', 'jyoti', 'Durga']\n"
     ]
    }
   ],
   "source": [
    "#inserting in the list in some position\n",
    "students.insert(2,'Shanmuki')\n",
    "print(students)"
   ]
  },
  {
   "cell_type": "code",
   "execution_count": null,
   "metadata": {},
   "outputs": [],
   "source": [
    "#diff btw append and insert is append will add to the end of the list where as insert is used to add an item in a particular position in the list\n"
   ]
  },
  {
   "cell_type": "code",
   "execution_count": 6,
   "metadata": {},
   "outputs": [
    {
     "name": "stdout",
     "output_type": "stream",
     "text": [
      "['satya', 'pranathi', 'Shanmuki', 'Dhyuti', 'Bindu', 'jyoti', 'Durga']\n"
     ]
    }
   ],
   "source": [
    "#deleting an item from the list\n",
    "print(students)\n"
   ]
  },
  {
   "cell_type": "code",
   "execution_count": 7,
   "metadata": {},
   "outputs": [
    {
     "name": "stdout",
     "output_type": "stream",
     "text": [
      "['satya', 'pranathi', 'Shanmuki', 'Dhyuti', 'jyoti', 'Durga']\n"
     ]
    }
   ],
   "source": [
    "del students[4]\n",
    "print(students)"
   ]
  },
  {
   "cell_type": "code",
   "execution_count": 8,
   "metadata": {},
   "outputs": [
    {
     "name": "stdout",
     "output_type": "stream",
     "text": [
      "['satya', 'pranathi', 'Shanmuki', 'Dhyuti', 'jyoti']\n"
     ]
    }
   ],
   "source": [
    "x=students.pop()\n",
    "print(students)\n",
    "print(x)"
   ]
  },
  {
   "cell_type": "code",
   "execution_count": 10,
   "metadata": {},
   "outputs": [
    {
     "name": "stdout",
     "output_type": "stream",
     "text": [
      "['satya', 'pranathi', 'Dhyuti']\n",
      "Shanmuki\n"
     ]
    }
   ],
   "source": [
    "y=students.pop(2)\n",
    "print(students)\n",
    "print(y)"
   ]
  },
  {
   "cell_type": "code",
   "execution_count": null,
   "metadata": {},
   "outputs": [],
   "source": [
    "#pop() is used to delete the elements from the list but a it will create a carbon copy of the deleted items ,by default pop() wll delete the items at the end"
   ]
  },
  {
   "cell_type": "code",
   "execution_count": null,
   "metadata": {},
   "outputs": [],
   "source": []
  }
 ],
 "metadata": {
  "kernelspec": {
   "display_name": "Python 3",
   "language": "python",
   "name": "python3"
  },
  "language_info": {
   "codemirror_mode": {
    "name": "ipython",
    "version": 3
   },
   "file_extension": ".py",
   "mimetype": "text/x-python",
   "name": "python",
   "nbconvert_exporter": "python",
   "pygments_lexer": "ipython3",
   "version": "3.7.6"
  }
 },
 "nbformat": 4,
 "nbformat_minor": 4
}
